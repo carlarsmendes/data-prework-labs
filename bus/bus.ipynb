{
 "cells": [
  {
   "cell_type": "markdown",
   "metadata": {},
   "source": [
    "# Bus\n",
    "\n",
    "This bus has a passenger entry and exit control system to monitor the number of occupants it carries and thus detect when there is too high a capacity.\n",
    "\n",
    "At each stop the entry and exit of passengers is represented by a tuple consisting of two integer numbers.\n",
    "```\n",
    "bus_stop = (in, out)\n",
    "```\n",
    "The succession of stops is represented by a list of these tuples.\n",
    "```\n",
    "stops = [(in1, out1), (in2, out2), (in3, out3), (in4, out4)]\n",
    "```\n",
    "\n",
    "## Goals:\n",
    "* lists, tuples\n",
    "* while/for loops\n",
    "* minimum, maximum, length\n",
    "* average, standard deviation\n",
    "\n",
    "## Tasks\n",
    "1. Calculate the number of stops.\n",
    "2. Assign to a variable a list whose elements are the number of passengers at each stop (in-out),\n",
    "3. Find the maximum occupation of the bus.\n",
    "4. Calculate the average occupation. And the standard deviation.\n"
   ]
  },
  {
   "cell_type": "code",
   "execution_count": 16,
   "metadata": {},
   "outputs": [],
   "source": [
    "# variables\n",
    "pass_in = (4,3,5,7)\n",
    "pass_out = (1,2,3,7)\n",
    "max_pass = max(len(pass_in),len(pass_out))"
   ]
  },
  {
   "cell_type": "code",
   "execution_count": 17,
   "metadata": {},
   "outputs": [
    {
     "name": "stdout",
     "output_type": "stream",
     "text": [
      "[(4, 1), (3, 2), (5, 3), (7, 7)]\n",
      "the number of stops is 4\n"
     ]
    }
   ],
   "source": [
    "# 1. Calculate the number of stops.\n",
    "\n",
    "max_pass = max(len(pass_in),len(pass_out))\n",
    "\n",
    "# stops = [(in1, out1), (in2, out2), (in3, out3), (in4, out4)]\n",
    "stops=[]\n",
    "\n",
    "for i in range(len(pass_in)):\n",
    "    stops.append((pass_in[i],pass_out[i]))\n",
    "\n",
    "print(stops)\n",
    "print(\"the number of stops is {}\" .format(len(stops)))\n"
   ]
  },
  {
   "cell_type": "code",
   "execution_count": 19,
   "metadata": {},
   "outputs": [
    {
     "name": "stdout",
     "output_type": "stream",
     "text": [
      "[3, 1, 2, 0]\n"
     ]
    }
   ],
   "source": [
    "# 2. Assign to a variable a list whose elements are the number of passengers at each stop (in-out),\n",
    "# Each item depends on the previous item in the list + in - out.\n",
    "\n",
    "list_in_out = []\n",
    "for i in range(len(stops)):\n",
    "    list_in_out.append((stops[i][0]-stops[i][1]))\n",
    "    \n",
    "print(list_in_out)"
   ]
  },
  {
   "cell_type": "code",
   "execution_count": 22,
   "metadata": {},
   "outputs": [
    {
     "name": "stdout",
     "output_type": "stream",
     "text": [
      "3\n"
     ]
    }
   ],
   "source": [
    "# 3. Find the maximum occupation of the bus.\n",
    "max_occupation = max(list_in_out)\n",
    "\n",
    "print(max_occupation)\n"
   ]
  },
  {
   "cell_type": "code",
   "execution_count": 36,
   "metadata": {},
   "outputs": [
    {
     "name": "stdout",
     "output_type": "stream",
     "text": [
      "Standard Deviation of the occupation of bus is 1.2909944487358056\n",
      "Standard Deviation of the occupation of bus is 1.5\n"
     ]
    },
    {
     "data": {
      "text/plain": [
       "[3, 1, 2, 0]"
      ]
     },
     "execution_count": 36,
     "metadata": {},
     "output_type": "execute_result"
    }
   ],
   "source": [
    "# 4. Calculate the average occupation. And the standard deviation.\n",
    "import statistics \n",
    "from statistics import mean \n",
    "\n",
    "print(\"Standard Deviation of the occupation of bus is {}\" .format(statistics.stdev(list_in_out)))\n",
    "print(\"Standard Deviation of the occupation of bus is {}\" .format(mean(list_in_out)))\n",
    "list_in_out"
   ]
  },
  {
   "cell_type": "markdown",
   "metadata": {},
   "source": []
  }
 ],
 "metadata": {
  "kernelspec": {
   "display_name": "Python 3",
   "language": "python",
   "name": "python3"
  },
  "language_info": {
   "codemirror_mode": {
    "name": "ipython",
    "version": 3
   },
   "file_extension": ".py",
   "mimetype": "text/x-python",
   "name": "python",
   "nbconvert_exporter": "python",
   "pygments_lexer": "ipython3",
   "version": "3.6.8"
  }
 },
 "nbformat": 4,
 "nbformat_minor": 2
}

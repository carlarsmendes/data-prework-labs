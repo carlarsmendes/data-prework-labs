{
 "cells": [
  {
   "cell_type": "markdown",
   "metadata": {},
   "source": [
    "# Snail and well\n",
    "\n",
    "A snail falls at the bottom of a 125 cm well. Each day the snail rises 30 cm. But at night, while sleeping, slides 20 cm because the walls are wet. How many days does it take to escape from the well?\n",
    "\n",
    "TIP: http://puzzles.nigelcoldwell.co.uk/sixtytwo.htm"
   ]
  },
  {
   "cell_type": "markdown",
   "metadata": {},
   "source": [
    "## Solución"
   ]
  },
  {
   "cell_type": "code",
   "execution_count": 3,
   "metadata": {},
   "outputs": [
    {
     "name": "stdout",
     "output_type": "stream",
     "text": [
      "On day 1 , the snake is -115 from the ground\n",
      "On day 2 , the snake is -105 from the ground\n",
      "On day 3 , the snake is -95 from the ground\n",
      "On day 4 , the snake is -85 from the ground\n",
      "On day 5 , the snake is -75 from the ground\n",
      "On day 6 , the snake is -65 from the ground\n",
      "On day 7 , the snake is -55 from the ground\n",
      "On day 8 , the snake is -45 from the ground\n",
      "On day 9 , the snake is -35 from the ground\n",
      "On day 10 , the snake is -25 from the ground\n",
      "On day 11 , the snake is -15 from the ground\n",
      "On day 12 , the snake is -5 from the ground\n",
      "On day 13 , the snake is 5 from the ground\n"
     ]
    }
   ],
   "source": [
    "# Assign problem data to variables with representative names\n",
    "# well height, daily advance, night retreat, accumulated distance\n",
    "\n",
    "distance_ground = -125\n",
    "day_rise = 30\n",
    "night_fall = -20\n",
    "\n",
    "\n",
    "# Assign 0 to the variable that represents the solution\n",
    "\n",
    "days = 0\n",
    "\n",
    "# Write the code that solves the problem\n",
    "\n",
    "while distance_ground < 0:\n",
    "    distance_ground = distance_ground + day_rise + night_fall\n",
    "    days += 1\n",
    "    print(\"On day {} , the snake is {} from the ground\" .format(days,distance_ground))\n",
    "    \n",
    "\n",
    "# Print the result with print('Days =', days)\n"
   ]
  },
  {
   "cell_type": "markdown",
   "metadata": {},
   "source": [
    "## Goals\n",
    "\n",
    "1. Treatment of variables\n",
    "2. Use of loop **while**\n",
    "3. Use of conditional **if-else**\n",
    "4. Print in console"
   ]
  },
  {
   "cell_type": "markdown",
   "metadata": {},
   "source": [
    "## Bonus\n",
    "The distance traveled by the snail is now defined by a list.\n",
    "```\n",
    "advance_cm = [30, 21, 33, 77, 44, 45, 23, 45, 12, 34, 55]\n",
    "```\n",
    "How long does it take to raise the well?\n",
    "\n",
    "What is its maximum displacement in one day? And its minimum?\n",
    "\n",
    "What is its average speed during the day?\n",
    "\n",
    "What is the standard deviation of its displacement during the day?"
   ]
  },
  {
   "cell_type": "code",
   "execution_count": 7,
   "metadata": {},
   "outputs": [
    {
     "name": "stdout",
     "output_type": "stream",
     "text": [
      "On day 1 , the snake is -95 from the ground\n",
      "On day 2 , the snake is -74 from the ground\n",
      "On day 3 , the snake is -41 from the ground\n",
      "On day 4 , the snake is 36 from the ground\n",
      "[9, -12, -44, 33]\n"
     ]
    },
    {
     "data": {
      "text/plain": [
       "-3.5"
      ]
     },
     "execution_count": 7,
     "metadata": {},
     "output_type": "execute_result"
    }
   ],
   "source": [
    "# Assign problem data to variables with representative names\n",
    "# well height, daily advance, night retreat, accumulated distance\n",
    "advance_cm = [30, 21, 33, 77, 44, 45, 23, 45, 12, 34, 55]\n",
    "distance_ground = -125\n",
    "\n",
    "# Assign 0 to the variable that represents the solution\n",
    "\n",
    "\n",
    "# Write the code that solves the problem\n",
    "\n",
    "displacement = []\n",
    "\n",
    "# Print the result with print('Days =', days)\n",
    "days = 0\n",
    "while distance_ground < 0:\n",
    "    distance_ground += advance_cm[days]\n",
    "    displacement.append(advance_cm[days]-advance_cm[days+1])\n",
    "    days += 1\n",
    "    print(\"On day {} , the snake is {} from the ground\" .format(days,distance_ground))\n",
    "    \n",
    "    \n",
    "print(displacement)\n",
    "\n",
    "\n",
    "# What is its maximum displacement in a day? And its minimum?\n",
    "max_displacement = max(displacement)\n",
    "min_displacement = min(displacement)\n",
    "\n",
    "# What is its average progress?\n",
    "import statistics\n",
    "from statistics import mean \n",
    "\n",
    "statistics.mean(displacement)\n",
    "\n",
    "# What is the standard deviation of your displacement during the day?\n",
    "\n"
   ]
  },
  {
   "cell_type": "code",
   "execution_count": null,
   "metadata": {},
   "outputs": [],
   "source": []
  }
 ],
 "metadata": {
  "kernelspec": {
   "display_name": "Python 3",
   "language": "python",
   "name": "python3"
  },
  "language_info": {
   "codemirror_mode": {
    "name": "ipython",
    "version": 3
   },
   "file_extension": ".py",
   "mimetype": "text/x-python",
   "name": "python",
   "nbconvert_exporter": "python",
   "pygments_lexer": "ipython3",
   "version": "3.6.8"
  }
 },
 "nbformat": 4,
 "nbformat_minor": 2
}

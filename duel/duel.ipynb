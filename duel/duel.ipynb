{
 "cells": [
  {
   "cell_type": "markdown",
   "metadata": {},
   "source": [
    "# Duel of sorcerers\n",
    "You are witnessing an epic battle between two powerful sorcerers: Gandalf and Saruman. Each sorcerer has 10 spells of variable power in their mind and they are going to throw them one after the other. The winner of the duel will be the one who wins more of those clashes between spells. Spells are represented as a list of 10 integers whose value equals the power of the spell.\n",
    "```\n",
    "gandalf = [10, 11, 13, 30, 22, 11, 10, 33, 22, 22]\n",
    "saruman = [23, 66, 12, 43, 12, 10, 44, 23, 12, 17]\n",
    "```\n",
    "For example:\n",
    "1. The first clash is won by Saruman: 10 against 23, wins 23\n",
    "2. The second clash wins Saruman: 11 against 66, wins 66\n",
    "3. etc.\n",
    "\n",
    "\n",
    "You will create two variables, one for each sorcerer, where the sum of clashes won will be stored. Depending on which variable is greater at the end of the duel, you will show one of the following three results on the screen:\n",
    "* Gandalf wins\n",
    "* Saruman wins\n",
    "* Tie\n",
    "\n",
    "<img src=\"images/content_lightning_bolt_big.jpg\" width=\"400\">"
   ]
  },
  {
   "cell_type": "markdown",
   "metadata": {},
   "source": [
    "## Solution"
   ]
  },
  {
   "cell_type": "code",
   "execution_count": 4,
   "metadata": {},
   "outputs": [],
   "source": [
    "# Assign spell power lists to variables\n",
    "\n",
    "gandalf = [10, 11, 13, 30, 22, 11, 10, 33, 22, 22]\n",
    "saruman = [23, 66, 12, 43, 12, 10, 44, 23, 12, 16]"
   ]
  },
  {
   "cell_type": "code",
   "execution_count": 25,
   "metadata": {},
   "outputs": [],
   "source": [
    "# Assign 0 to each variable that stores the victories\n",
    "gandalf_victories= 0\n",
    "saruman_victories = 0 "
   ]
  },
  {
   "cell_type": "code",
   "execution_count": 9,
   "metadata": {},
   "outputs": [
    {
     "data": {
      "text/plain": [
       "10"
      ]
     },
     "execution_count": 9,
     "metadata": {},
     "output_type": "execute_result"
    }
   ],
   "source": [
    "# Execution of spell clashes\n",
    "gandalf[0] "
   ]
  },
  {
   "cell_type": "code",
   "execution_count": 26,
   "metadata": {},
   "outputs": [
    {
     "name": "stdout",
     "output_type": "stream",
     "text": [
      "gandalf_victories 6\n"
     ]
    }
   ],
   "source": [
    "# We check who has won, do not forget the possibility of a draw.\n",
    "# Print the result based on the winner.\n",
    "\n",
    "for i in range(len(gandalf)):\n",
    "    if gandalf[i] > saruman[i]:\n",
    "        #print ('round {} for Gandalf' .format(i))  \n",
    "        gandalf_victories = gandalf_victories + 1\n",
    "        #print ('gandalf_victories = {} '.format(gandalf_victories))\n",
    "    elif gandalf[i] < saruman[i]: \n",
    "        saruman_victories = saruman_victories + 1\n",
    "        #print ('saruman_victories = {} '.format(saruman_victories))\n",
    "\n",
    "if gandalf_victories > saruman_victories: \n",
    "    print(\"Gandalf wins with \",gandalf_victories)\n",
    "elif gandalf_victories < saruman_victories: \n",
    "    print(\"Saruman wins with \",saruman_victories)\n",
    "else: print(\"It's a tie!\")\n",
    "    "
   ]
  },
  {
   "cell_type": "markdown",
   "metadata": {},
   "source": [
    "## Goals\n",
    "\n",
    "1. Treatment of lists\n",
    "2. Use of **for loop**\n",
    "3. Use of conditional **if-elif-else**\n",
    "4. Use of the functions **range(), len()**\n",
    "5. Print"
   ]
  },
  {
   "cell_type": "markdown",
   "metadata": {},
   "source": [
    "## Bonus\n",
    "\n",
    "1. Spells now have a name and there is a dictionary that relates that name to a power.\n",
    "2. A sorcerer wins if he succeeds in winning 3 spell clashes in a row.\n",
    "3. Average of each of the spell lists.\n",
    "4. Standard deviation of each of the spell lists.\n",
    "\n",
    "```\n",
    "POWER = {\n",
    "    'Fireball': 50, \n",
    "    'Lightning bolt': 40, \n",
    "    'Magic arrow': 10, \n",
    "    'Black Tentacles': 25, \n",
    "    'Contagion': 45\n",
    "}\n",
    "\n",
    "gandalf = ['Fireball', 'Lightning bolt', 'Lightning bolt', 'Magic arrow', 'Fireball', \n",
    "           'Magic arrow', 'Lightning bolt', 'Fireball', 'Fireball', 'Fireball']\n",
    "saruman = ['Contagion', 'Contagion', 'Black Tentacles', 'Fireball', 'Black Tentacles', \n",
    "           'Lightning bolt', 'Magic arrow', 'Contagion', 'Magic arrow', 'Magic arrow']\n",
    "```\n",
    "\n",
    "Good luck!"
   ]
  },
  {
   "cell_type": "code",
   "execution_count": 58,
   "metadata": {},
   "outputs": [],
   "source": [
    "# 1. Spells now have a name and there is a dictionary that relates that name to a power.\n",
    "# variables\n",
    "\n",
    "POWER = {\n",
    "    'Fireball': 50, \n",
    "    'Lightning bolt': 40, \n",
    "    'Magic arrow': 10, \n",
    "    'Black Tentacles': 25, \n",
    "    'Contagion': 45\n",
    "}\n",
    "\n",
    "gandalf = ['Fireball', 'Lightning bolt', 'Lightning bolt', 'Magic arrow', 'Fireball', \n",
    "           'Magic arrow', 'Lightning bolt', 'Fireball', 'Magic arrow', 'Fireball']\n",
    "saruman = ['Contagion', 'Contagion', 'Black Tentacles', 'Fireball', 'Black Tentacles', \n",
    "           'Lightning bolt', 'Magic arrow', 'Contagion', 'Magic arrow', 'Magic arrow']"
   ]
  },
  {
   "cell_type": "code",
   "execution_count": 59,
   "metadata": {},
   "outputs": [
    {
     "name": "stdout",
     "output_type": "stream",
     "text": [
      "50\n",
      "gandalf [50, 40, 40, 10, 50, 10, 40, 50, 10, 50]\n",
      "saruman [45, 45, 25, 50, 25, 40, 10, 45, 10, 10]\n"
     ]
    }
   ],
   "source": [
    "# Assign spell power lists to variables\n",
    "POWER.get('Fireball')\n",
    "\n",
    "print(POWER.get(str(gandalf[0])))\n",
    "\n",
    "for i in range(len(gandalf)):\n",
    "    gandalf[i] = POWER.get(str(gandalf[i]))  \n",
    "    saruman[i] = POWER.get(saruman[i])\n",
    "    \n",
    "print(\"gandalf\" , gandalf)\n",
    "print(\"saruman\" , saruman)\n"
   ]
  },
  {
   "cell_type": "code",
   "execution_count": 73,
   "metadata": {},
   "outputs": [
    {
     "name": "stdout",
     "output_type": "stream",
     "text": [
      "['Gandalf', 'Saruman', 'Gandalf', 'Saruman', 'Gandalf', 'Saruman', 'Gandalf', 'Gandalf', 'Gandalf']\n"
     ]
    },
    {
     "data": {
      "text/plain": [
       "'The definite winner is Gandalf'"
      ]
     },
     "execution_count": 73,
     "metadata": {},
     "output_type": "execute_result"
    }
   ],
   "source": [
    "# 2. A sorcerer wins if he succeeds in winning 3 spell clashes in a row.\n",
    "\n",
    "\n",
    "# Execution of spell clashes\n",
    "def spell_clashes(gandalf,saruman):\n",
    "\n",
    "    gandalf_victories = 0\n",
    "    saruman_victories = 0\n",
    "    victories= []\n",
    "    \n",
    "    for i in range(len(gandalf)):\n",
    "        if gandalf[i] > saruman[i]:\n",
    "            #print ('round {} for Gandalf' .format(i))  \n",
    "            #gandalf_victories = gandalf_victories + 1\n",
    "            victories.append('Gandalf')\n",
    "            #print ('gandalf_victories = {} '.format(gandalf_victories))\n",
    "        elif gandalf[i] < saruman[i]: \n",
    "            #saruman_victories = saruman_victories + 1\n",
    "            victories.append('Saruman')\n",
    "            #print ('saruman_victories = {} '.format(saruman_victories))\n",
    "    return victories\n",
    "\n",
    "print(spell_clashes(gandalf,saruman))\n",
    "\n",
    "# check for 3 wins in a row\n",
    "def check_for_wins(list_wins):\n",
    "    for i in range(len(list_wins)):\n",
    "        if list_wins[i] == list_wins[i+1] and list_wins[i] == list_wins[i+2]:\n",
    "            return 'The definite winner is ' + list_wins[i]\n",
    "        else : wins = 'No 3-in-a-row winners!'\n",
    "    \n",
    "    return wins \n",
    "# check the winner\n",
    "check_for_wins(spell_clashes(gandalf,saruman))\n"
   ]
  },
  {
   "cell_type": "code",
   "execution_count": 85,
   "metadata": {},
   "outputs": [
    {
     "name": "stdout",
     "output_type": "stream",
     "text": [
      "35\n"
     ]
    }
   ],
   "source": [
    "# 3. Average of each of the spell lists.\n",
    "\n",
    "# Method 1\n",
    "avg_1 = sum(gandalf)/len(gandalf)\n",
    "avg_2 = sum(saruman)/len(gandalf)\n",
    "\n",
    "# Method 2: Reduce & Lambda\n",
    "from functools import reduce\n",
    "  \n",
    "def Average(lst): \n",
    "    return reduce(lambda a, b: a + b, lst) / len(lst)  \n",
    "  \n",
    "avg_3 = Average(gandalf)\n",
    "avg_4 = Average(saruman)\n",
    "\n",
    "#Method 3: Using mean from statistics\n",
    "\n",
    "from statistics import mean \n",
    "  \n",
    "def Average(lst): \n",
    "    return mean(lst) \n",
    "  \n",
    "\n",
    "avg_5 = Average(gandalf)\n",
    "\n",
    "print(avg_5)"
   ]
  },
  {
   "cell_type": "code",
   "execution_count": 88,
   "metadata": {},
   "outputs": [
    {
     "name": "stdout",
     "output_type": "stream",
     "text": [
      "Standard Deviation 17.795130420052185 \n"
     ]
    }
   ],
   "source": [
    "# 4. Standard deviation of each of the spell lists.\n",
    "\n",
    "import statistics \n",
    "  \n",
    "# Prints standard deviation \n",
    "print(\"Standard Deviation % s \" \n",
    "                % (statistics.stdev(gandalf))) \n"
   ]
  },
  {
   "cell_type": "code",
   "execution_count": null,
   "metadata": {},
   "outputs": [],
   "source": []
  }
 ],
 "metadata": {
  "kernelspec": {
   "display_name": "Python 3",
   "language": "python",
   "name": "python3"
  },
  "language_info": {
   "codemirror_mode": {
    "name": "ipython",
    "version": 3
   },
   "file_extension": ".py",
   "mimetype": "text/x-python",
   "name": "python",
   "nbconvert_exporter": "python",
   "pygments_lexer": "ipython3",
   "version": "3.6.8"
  }
 },
 "nbformat": 4,
 "nbformat_minor": 2
}
